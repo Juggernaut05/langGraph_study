{
 "cells": [
  {
   "cell_type": "code",
   "execution_count": 23,
   "id": "852f8ba0",
   "metadata": {},
   "outputs": [],
   "source": [
    "from typing import Dict, TypedDict, List\n",
    "import math\n",
    "from langgraph.graph import StateGraph "
   ]
  },
  {
   "cell_type": "code",
   "execution_count": 28,
   "id": "327b13c3",
   "metadata": {},
   "outputs": [],
   "source": [
    "class AgentState(TypedDict):\n",
    "    values: List[int]\n",
    "    operation: str\n",
    "    name: str\n",
    "    result: str\n"
   ]
  },
  {
   "cell_type": "code",
   "execution_count": 29,
   "id": "f97aa509",
   "metadata": {},
   "outputs": [],
   "source": [
    "def process_values(state: AgentState) -> AgentState:\n",
    "    \"\"\"A simple node that processes a list of integers based on user prefernce of addition or multiplication\"\"\"\n",
    "    if state[\"operation\"] == \"add\":\n",
    "        state[\"result\"] = f\"Hey {state['name']}! The sum of your values is {sum(state['values'])}\"\n",
    "    elif state[\"operation\"] == \"multiply\":\n",
    "        state[\"result\"] = f\"Hey {state['name']}! The product of your values is {math.prod(state['values'])}\"\n",
    "    \n",
    "\n",
    "    return state"
   ]
  },
  {
   "cell_type": "code",
   "execution_count": 30,
   "id": "a20aa897",
   "metadata": {},
   "outputs": [],
   "source": [
    "graph = StateGraph(AgentState)\n",
    "\n",
    "graph.add_node(\"ValueProcessor\", process_values)\n",
    "graph.set_entry_point(\"ValueProcessor\")\n",
    "graph.set_finish_point(\"ValueProcessor\")\n",
    "app = graph.compile()\n",
    "\n"
   ]
  },
  {
   "cell_type": "code",
   "execution_count": 31,
   "id": "c4655bc3",
   "metadata": {},
   "outputs": [
    {
     "data": {
      "image/png": "[encoded data removed]",
      "text/plain": [
       "<IPython.core.display.Image object>"
      ]
     },
     "metadata": {},
     "output_type": "display_data"
    }
   ],
   "source": [
    "from IPython.display import Image, display\n",
    "display(Image(app.get_graph().draw_mermaid_png()))\n",
    "\n",
    "answer = app.invoke({\"values\": [1,2,3,4], \"operation\": \"multiply\", \"name\":\"Steve\"})"
   ]
  },
  {
   "cell_type": "code",
   "execution_count": 32,
   "id": "36af70e8",
   "metadata": {},
   "outputs": [
    {
     "name": "stdout",
     "output_type": "stream",
     "text": [
      "Hey Steve! The product of your values is 24\n"
     ]
    }
   ],
   "source": [
    "print(answer[\"result\"])"
   ]
  }
 ],
 "metadata": {
  "kernelspec": {
   "display_name": "Python 3",
   "language": "python",
   "name": "python3"
  },
  "language_info": {
   "codemirror_mode": {
    "name": "ipython",
    "version": 3
   },
   "file_extension": ".py",
   "mimetype": "text/x-python",
   "name": "python",
   "nbconvert_exporter": "python",
   "pygments_lexer": "ipython3",
   "version": "3.11.4"
  }
 },
 "nbformat": 4,
 "nbformat_minor": 5
}
