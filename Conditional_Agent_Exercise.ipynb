{
 "cells": [
  {
   "cell_type": "code",
   "execution_count": 1,
   "id": "1d2c3662",
   "metadata": {},
   "outputs": [],
   "source": [
    "from typing import Dict, TypedDict, List\n",
    "from langgraph.graph import StateGraph, START, END"
   ]
  },
  {
   "cell_type": "code",
   "execution_count": 12,
   "id": "8062d832",
   "metadata": {},
   "outputs": [],
   "source": [
    "#Create State Schema\n",
    "class AgentState(TypedDict):\n",
    "    number1: int\n",
    "    operation1: str\n",
    "    number2: int\n",
    "    finalNumber1: int\n",
    "    number3: int\n",
    "    operation2: str\n",
    "    number4: int\n",
    "    finalNumber2: int"
   ]
  },
  {
   "cell_type": "code",
   "execution_count": 16,
   "id": "9946cb7d",
   "metadata": {},
   "outputs": [],
   "source": [
    "def adder_one(state: AgentState) -> AgentState:\n",
    "    \"\"\"This node adds two numbers\"\"\"\n",
    "    state[\"finalNumber1\"] = state[\"number1\"] + state[\"number2\"]\n",
    "    return state\n",
    "\n",
    "def subtractor_one(state: AgentState) -> AgentState:\n",
    "    \"\"\"This node subtracts two numbers\"\"\"\n",
    "    state[\"finalNumber1\"] = state[\"number1\"] - state[\"number2\"]\n",
    "    return state\n",
    "\n",
    "def decide_next_node_one(state:AgentState) -> AgentState:\n",
    "    \"\"\"This node decides which operation to perform\"\"\"\n",
    "    if state[\"operation1\"] == \"+\":\n",
    "        return \"addition_operation_one\"\n",
    "    elif state[\"operation1\"] == \"-\":\n",
    "        return \"subtraction_operation_one\"\n",
    "    \n",
    "def adder_two(state: AgentState) -> AgentState:\n",
    "    \"\"\"This node adds two numbers\"\"\"\n",
    "    state[\"finalNumber2\"] = state[\"number3\"] + state[\"number4\"]\n",
    "    return state\n",
    "\n",
    "def subtractor_two (state: AgentState) -> AgentState:\n",
    "    \"\"\"This node subtracts two numbers\"\"\"\n",
    "    state[\"finalNumber2\"] = state[\"number3\"] - state[\"number4\"]\n",
    "    return state\n",
    "\n",
    "def decide_next_node_two(state: AgentState) -> AgentState:\n",
    "    \"\"\"\"This node decides which operation to perform\"\"\"\n",
    "    if state[\"operation2\"] == \"+\":\n",
    "        return \"addition_operation_two\"\n",
    "    elif state[\"operation2\"] == \"-\":\n",
    "        return \"subtraction_operation_two\"\n"
   ]
  },
  {
   "cell_type": "code",
   "execution_count": 28,
   "id": "a6990ff5",
   "metadata": {},
   "outputs": [],
   "source": [
    "graph = StateGraph(AgentState)\n",
    "\n",
    "\n",
    "graph.add_node(\"add_node1\", adder_one)\n",
    "graph.add_node(\"subtractor_node1\", subtractor_one)\n",
    "graph.add_node(\"router1\", lambda state:state)\n",
    "\n",
    "graph.add_node(\"add_node2\", adder_two)\n",
    "graph.add_node(\"subtractor_node2\", subtractor_two)\n",
    "graph.add_node(\"router2\", lambda state:state)\n",
    "\n",
    "graph.add_edge(START, \"router1\")\n",
    "\n",
    "graph.add_conditional_edges(\n",
    "    \"router1\",\n",
    "    decide_next_node_one,\n",
    "\n",
    "    {\n",
    "        #Edge name: Node name\n",
    "        \"addition_operation_one\": \"add_node1\",\n",
    "        \"subtraction_operation_one\": \"subtractor_node1\"\n",
    "    }\n",
    ")\n",
    "\n",
    "graph.add_edge(\"add_node1\", \"router2\")\n",
    "graph.add_edge(\"subtractor_node1\", \"router2\")\n",
    "\n",
    "graph.add_conditional_edges(\n",
    "    \"router2\",\n",
    "    decide_next_node_two,\n",
    "\n",
    "    {\n",
    "        #Edge name: Node name\n",
    "        \"addition_operation_two\": \"add_node2\",\n",
    "        \"subtraction_operation_two\": \"subtractor_node2\"\n",
    "    }\n",
    ")\n",
    "\n",
    "graph.add_edge(\"add_node2\", END)\n",
    "graph.add_edge(\"subtractor_node2\", END)\n",
    "\n",
    "\n",
    "app = graph.compile()\n",
    "\n",
    "\n",
    "\n",
    "\n"
   ]
  },
  {
   "cell_type": "code",
   "execution_count": 35,
   "id": "ca67c1f9",
   "metadata": {},
   "outputs": [
    {
     "name": "stdout",
     "output_type": "stream",
     "text": [
      "5 9\n"
     ]
    }
   ],
   "source": [
    "#Visualize the graph\n",
    "#from IPython.display import Image, display\n",
    "#display(Image(app.get_graph().draw_mermaid_png()))\n",
    "\n",
    "\n",
    "initial_state_1 = AgentState(number1 = 10, operation1=\"-\", number2=5, number3=7, operation2=\"+\", number4=2)\n",
    "result = app.invoke(initial_state_1)\n",
    "print(result[\"finalNumber1\"], result[\"finalNumber2\"])"
   ]
  }
 ],
 "metadata": {
  "kernelspec": {
   "display_name": "Python 3",
   "language": "python",
   "name": "python3"
  },
  "language_info": {
   "codemirror_mode": {
    "name": "ipython",
    "version": 3
   },
   "file_extension": ".py",
   "mimetype": "text/x-python",
   "name": "python",
   "nbconvert_exporter": "python",
   "pygments_lexer": "ipython3",
   "version": "3.11.4"
  }
 },
 "nbformat": 4,
 "nbformat_minor": 5
}
