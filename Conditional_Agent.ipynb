{
 "cells": [
  {
   "cell_type": "code",
   "execution_count": 1,
   "id": "8b84f9c7",
   "metadata": {},
   "outputs": [],
   "source": [
    "from typing import Dict, TypedDict, List\n",
    "from langgraph.graph import StateGraph, START, END"
   ]
  },
  {
   "cell_type": "code",
   "execution_count": 2,
   "id": "da155e08",
   "metadata": {},
   "outputs": [],
   "source": [
    "#Create State Schema\n",
    "class AgentState(TypedDict):\n",
    "    number1: int\n",
    "    operation: str\n",
    "    number2: int\n",
    "    finalNumber: int\n"
   ]
  },
  {
   "cell_type": "code",
   "execution_count": 5,
   "id": "9986f6c8",
   "metadata": {},
   "outputs": [],
   "source": [
    "#Node Creation\n",
    "def adder(state:AgentState) -> AgentState:\n",
    "    \"\"\"This node is to add two numbers\"\"\"\n",
    "    state[\"finalNumber\"] = state[\"number1\"] + state[\"number2\"]\n",
    "\n",
    "    return state\n",
    "\n",
    "def subtractor(state:AgentState) -> AgentState:\n",
    "    \"\"\"This node is to subtract two numbers\"\"\"\n",
    "    state[\"finalNumber\"] = state[\"number1\"] - state[\"number2\"]\n",
    "\n",
    "    return state\n",
    "\n",
    "def decide_next_node(state:AgentState) -> AgentState:\n",
    "    \"\"\"This node will select the next node in the graph based on the operation\"\"\"\n",
    "    if state[\"operation\"] == \"+\":\n",
    "        return \"addition_operation\" #Addition Operation Edge\n",
    "    elif state[\"operation\"] == \"-\":\n",
    "        return \"subtraction_operation\" #Subtraction Operation Edge"
   ]
  },
  {
   "cell_type": "code",
   "execution_count": null,
   "id": "b36f533e",
   "metadata": {},
   "outputs": [],
   "source": [
    "#Creating Graph\n",
    "graph = StateGraph(AgentState)\n",
    "\n",
    "graph.add_node(\"add_node\", adder)\n",
    "graph.add_node(\"subtract_node\", subtractor)\n",
    "graph.add_node(\"router_node\", lambda state:state) # Pass through function. The output is same as input. Here we are nt changing the state.\n",
    "\n",
    "graph.add_edge(START, \"router_node\")\n",
    "\n",
    "graph.add_conditional_edges(\n",
    "    \"router_node\",\n",
    "    decide_next_node,\n",
    "\n",
    "    {\n",
    "        #Edge Name : Node Name\n",
    "        \"addition_operation\": \"add_node\",\n",
    "        \"subtraction_operation\": \"subtract_node\"\n",
    "    }\n",
    ")\n",
    "\n",
    "graph.add_edge(\"add_node\", END)\n",
    "graph.add_edge(\"subtract_node\", END)\n",
    "\n",
    "app=graph.compile()"
   ]
  },
  {
   "cell_type": "code",
   "execution_count": 16,
   "id": "0cf9e4f6",
   "metadata": {},
   "outputs": [
    {
     "data": {
      "image/png": "[encoded data removed]",
      "text/plain": [
       "<IPython.core.display.Image object>"
      ]
     },
     "metadata": {},
     "output_type": "display_data"
    }
   ],
   "source": [
    "from IPython.display import Image, display\n",
    "display(Image(app.get_graph().draw_mermaid_png()))"
   ]
  },
  {
   "cell_type": "code",
   "execution_count": 20,
   "id": "da62b2c3",
   "metadata": {},
   "outputs": [
    {
     "name": "stdout",
     "output_type": "stream",
     "text": [
      "15\n"
     ]
    }
   ],
   "source": [
    "initial_state_1 = AgentState(number1 = 10, operation = \"+\", number2 = 5)\n",
    "print(app.invoke(initial_state_1)[\"finalNumber\"])"
   ]
  }
 ],
 "metadata": {
  "kernelspec": {
   "display_name": "Python 3",
   "language": "python",
   "name": "python3"
  },
  "language_info": {
   "codemirror_mode": {
    "name": "ipython",
    "version": 3
   },
   "file_extension": ".py",
   "mimetype": "text/x-python",
   "name": "python",
   "nbconvert_exporter": "python",
   "pygments_lexer": "ipython3",
   "version": "3.11.4"
  }
 },
 "nbformat": 4,
 "nbformat_minor": 5
}
