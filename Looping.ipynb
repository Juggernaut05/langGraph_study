{
 "cells": [
  {
   "cell_type": "code",
   "execution_count": 1,
   "id": "65e10173",
   "metadata": {},
   "outputs": [],
   "source": [
    "from typing import Dict, TypedDict, List\n",
    "import random\n",
    "from langgraph.graph import StateGraph, START, END"
   ]
  },
  {
   "cell_type": "code",
   "execution_count": 15,
   "id": "b15f3fc2",
   "metadata": {},
   "outputs": [],
   "source": [
    "class AgentState(TypedDict):\n",
    "    name: str\n",
    "    number: List[int]\n",
    "    counter: int"
   ]
  },
  {
   "cell_type": "code",
   "execution_count": 17,
   "id": "9ee02e51",
   "metadata": {},
   "outputs": [],
   "source": [
    "def greeting_node(state: AgentState) -> AgentState:\n",
    "    \"\"\"Greeting node that greets the user by name.\"\"\"\n",
    "    state[\"name\"] = f\"Hi there, {state['name']}\"\n",
    "    state[\"counter\"] = 0 #Setting the counter to 0. This wipes out invalid values\n",
    "\n",
    "    return state\n",
    "\n",
    "def random_node(state: AgentState) -> AgentState:\n",
    "    \"\"\"Generates a random number from 0 to 10\"\"\"\n",
    "    state[\"number\"].append(random.randint(0, 10)) #Append the randomly generated number to the list\n",
    "    state[\"counter\"] += 1 #Increment the counter by 1\n",
    "\n",
    "    return state\n",
    "\n",
    "def should_continue(state: AgentState) -> AgentState:\n",
    "    \"\"\"Function to decide what do next\"\"\"\n",
    "    if state[\"counter\"] < 5:\n",
    "        print(\"Entering Loop\", state[\"counter\"])\n",
    "        return \"loop\" #loop edge\n",
    "    else:\n",
    "        print(\"Exiting Loop\", state[\"counter\"])\n",
    "        return \"exit\" #exit edge\n"
   ]
  },
  {
   "cell_type": "code",
   "execution_count": 18,
   "id": "7aa50f59",
   "metadata": {},
   "outputs": [],
   "source": [
    "#greeting_node -> random_node -> random_node -> random_node -> random_node -> random_node -> END"
   ]
  },
  {
   "cell_type": "code",
   "execution_count": 23,
   "id": "f0f1d52a",
   "metadata": {},
   "outputs": [],
   "source": [
    "#Create Graph\n",
    "graph = StateGraph(AgentState) #Initialize the graph with the state schema\n",
    "\n",
    "graph.add_node(\"greeting\", greeting_node) #Add greeting node\n",
    "graph.add_node(\"random\", random_node) # Add random number node\n",
    "graph.add_edge(\"greeting\",\"random\") #Add edge from greeting to random node\n",
    "\n",
    "graph.add_conditional_edges( \n",
    "    \"random\", #From random node\n",
    "    should_continue, #routing function\n",
    "    {\n",
    "        \"loop\": \"random\", #If should_continue returns \"loop\", go back to random node\n",
    "        \"exit\": END #If should_continue returns \"exit\", go to END\n",
    "    }\n",
    ")\n",
    "\n",
    "graph.set_entry_point(\"greeting\") #Set entry point to greeting node\n",
    "\n",
    "app = graph.compile() #Compile the graph into an application"
   ]
  },
  {
   "cell_type": "code",
   "execution_count": 24,
   "id": "2da63b08",
   "metadata": {},
   "outputs": [
    {
     "data": {
      "image/png": "[encoded data removed]",
      "text/plain": [
       "<IPython.core.display.Image object>"
      ]
     },
     "metadata": {},
     "output_type": "display_data"
    }
   ],
   "source": [
    "#Visualize the graph\n",
    "from IPython.display import Image, display\n",
    "display(Image(app.get_graph().draw_mermaid_png()))"
   ]
  },
  {
   "cell_type": "code",
   "execution_count": 25,
   "id": "cf6804c4",
   "metadata": {},
   "outputs": [
    {
     "name": "stdout",
     "output_type": "stream",
     "text": [
      "Entering Loop 1\n",
      "Entering Loop 2\n",
      "Entering Loop 3\n",
      "Entering Loop 4\n",
      "Exiting Loop 5\n"
     ]
    },
    {
     "data": {
      "text/plain": [
       "{'name': 'Hi there, Prasad', 'number': [3, 4, 10, 1, 9], 'counter': 5}"
      ]
     },
     "execution_count": 25,
     "metadata": {},
     "output_type": "execute_result"
    }
   ],
   "source": [
    "app.invoke({\"name\":\"Prasad\", \"number\":[], \"counter\":0})"
   ]
  }
 ],
 "metadata": {
  "kernelspec": {
   "display_name": "Python 3",
   "language": "python",
   "name": "python3"
  },
  "language_info": {
   "codemirror_mode": {
    "name": "ipython",
    "version": 3
   },
   "file_extension": ".py",
   "mimetype": "text/x-python",
   "name": "python",
   "nbconvert_exporter": "python",
   "pygments_lexer": "ipython3",
   "version": "3.11.4"
  }
 },
 "nbformat": 4,
 "nbformat_minor": 5
}
