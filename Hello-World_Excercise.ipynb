{
 "cells": [
  {
   "cell_type": "code",
   "execution_count": 1,
   "id": "c3bb0350",
   "metadata": {},
   "outputs": [],
   "source": [
    "from typing import Dict, TypedDict\n",
    "from langgraph.graph import StateGraph # framework that helps you design and manage the flow  of tasks in your application using a graph structure."
   ]
  },
  {
   "cell_type": "code",
   "execution_count": 28,
   "id": "322fa4c6",
   "metadata": {},
   "outputs": [],
   "source": [
    "class State(TypedDict):\n",
    "    message: str\n",
    "\n",
    "def greet_node(state: State) -> State:\n",
    "    \"\"\"A simple node that adds a personalized greeting to the message.\"\"\"\n",
    "    state[\"message\"] = state[\"message\"] + \", you're doing an amazing job learning LangGraph!\"\n",
    "    return state\n"
   ]
  },
  {
   "cell_type": "code",
   "execution_count": 29,
   "id": "ae9f2220",
   "metadata": {},
   "outputs": [
    {
     "data": {
      "image/png": "[encoded data removed]",
      "text/plain": [
       "<IPython.core.display.Image object>"
      ]
     },
     "metadata": {},
     "output_type": "display_data"
    }
   ],
   "source": [
    "\n",
    "from IPython.display import Image, display\n",
    "display(Image(app.get_graph().draw_mermaid_png()))\n",
    "\n",
    "graph = StateGraph(State)\n",
    "\n",
    "graph.add_node(\"greet\", greet_node)\n",
    "\n",
    "graph.set_entry_point(\"greet\")\n",
    "graph.set_finish_point(\"greet\")\n",
    "\n",
    "app = graph.compile()"
   ]
  },
  {
   "cell_type": "code",
   "execution_count": 30,
   "id": "5f252686",
   "metadata": {},
   "outputs": [],
   "source": [
    "result = app.invoke({\"message\": \"Bob\"})"
   ]
  },
  {
   "cell_type": "code",
   "execution_count": 31,
   "id": "4d12633e",
   "metadata": {},
   "outputs": [
    {
     "data": {
      "text/plain": [
       "\"Bob, you're doing an amazing job learning LangGraph!\""
      ]
     },
     "execution_count": 31,
     "metadata": {},
     "output_type": "execute_result"
    }
   ],
   "source": [
    "result[\"message\"]"
   ]
  }
 ],
 "metadata": {
  "kernelspec": {
   "display_name": "Python 3",
   "language": "python",
   "name": "python3"
  },
  "language_info": {
   "codemirror_mode": {
    "name": "ipython",
    "version": 3
   },
   "file_extension": ".py",
   "mimetype": "text/x-python",
   "name": "python",
   "nbconvert_exporter": "python",
   "pygments_lexer": "ipython3",
   "version": "3.11.4"
  }
 },
 "nbformat": 4,
 "nbformat_minor": 5
}
